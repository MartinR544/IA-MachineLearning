{
  "cells": [
    {
      "cell_type": "markdown",
      "metadata": {
        "id": "p_yl8WO-QNOu"
      },
      "source": [
        "# **Présentation, nos joueurs artificiels afin de jouer à l'Awale.**\n",
        "\n",
        "---\n",
        "\n",
        "\n",
        "\n"
      ]
    },
    {
      "cell_type": "markdown",
      "source": [
        "* [I. Création de l'IA, l'algorithme minmax.](#chapter1)\n",
        "    * [I.1. Comparaison de MinMax et MinMax Alpha/Béta.](#section_1_1)\n",
        "    * [I.2. Différentes idées d'heuristiques.](#section_1_2)\n",
        "* [II. Pour aller plus loin, un joueur utilisant le Machine Learning.](#chapter2)\n",
        "* [III. Annexe.](#Annexe)"
      ],
      "metadata": {
        "id": "G27SU2l6-QWh"
      }
    },
    {
      "cell_type": "code",
      "execution_count": null,
      "metadata": {
        "colab": {
          "base_uri": "https://localhost:8080/"
        },
        "id": "6QC6tCyvQNOv",
        "outputId": "54f93f17-187a-4879-a3c7-d17b5895971b"
      },
      "outputs": [
        {
          "output_type": "stream",
          "name": "stdout",
          "text": [
            "Mounted at drive\n",
            "/content/drive/My Drive/Minmax edited/\n",
            "['Cours2_ECM_IA_et_Jeux 2.pdf', 'awaleplateau.jpg', 'Games', 'Awale', 'Utile', 'Notebooks', 'Chess', 'abel', '.ipynb_checkpoints', 'ABvariable7vsABvariable75000_FullGames_AllisSouth.npy', 'Modeles']\n"
          ]
        }
      ],
      "source": [
        "import os\n",
        "from google.colab import drive\n",
        "drive.mount('drive')\n",
        "\n",
        "!mkdir -p drive -v\n",
        "\n",
        "cwd = os.getcwd()\n",
        "\n",
        "monchemin = 'drive/My Drive/Minmax edited/'\n",
        "\n",
        "dir_path=os.path.join(cwd, monchemin)\n",
        "dirs =os.listdir(dir_path)\n",
        "print(dir_path)\n",
        "print (dirs)\n",
        "\n",
        "os.chdir(dir_path)\n",
        "\n",
        "!export PYTHONPATH=$PYTHONPATH:dir_path\n"
      ]
    },
    {
      "cell_type": "code",
      "execution_count": null,
      "metadata": {
        "colab": {
          "base_uri": "https://localhost:8080/"
        },
        "id": "RBjMLB7xQNO0",
        "outputId": "32cba47d-ccb2-4aff-bbc7-abc862e16f60"
      },
      "outputs": [
        {
          "output_type": "stream",
          "name": "stdout",
          "text": [
            "/env/python\n"
          ]
        }
      ],
      "source": [
        "!echo $PYTHONPATH"
      ]
    },
    {
      "cell_type": "code",
      "execution_count": null,
      "metadata": {
        "id": "tAulqi76XTCL"
      },
      "outputs": [],
      "source": [
        "import sys\n",
        "\n",
        "from Games.Games import Game, play_game\n",
        "from Awale.AwaleGame import AwaleGame\n",
        "from Awale.Feval_Awale import *\n",
        "from Games.Players import *\n",
        "from Games.Players import H1Player\n",
        "from Games.Players import MinmaxPlayer\n",
        "from Games.Players import alphabetaplayer\n",
        "\n"
      ]
    },
    {
      "cell_type": "markdown",
      "source": [
        "# **I.Création de l'IA, l'algorithme minmax.**"
      ],
      "metadata": {
        "id": "CVMOGUJy_w8g"
      }
    },
    {
      "cell_type": "markdown",
      "metadata": {
        "id": "875AVLcfm_JM"
      },
      "source": [
        "# **I.1.Après avoir implémenté un joueur MinMax alpha/béta nous allons observer l'efficacité de ce dernier par rapport au joueur minmax classique.** "
      ]
    },
    {
      "cell_type": "code",
      "execution_count": null,
      "metadata": {
        "id": "SEgmZ5PdOCgJ"
      },
      "outputs": [],
      "source": [
        "L = []\n",
        "for k in range (1,6):\n",
        "  a,b,c,d = play_game(AwaleGame(), MinmaxPlayer(fevalAwaleSouth,k),alphabetaplayer(fevalAwaleNorth,k))\n",
        "  L.append([k,b,c,d])"
      ]
    },
    {
      "cell_type": "markdown",
      "metadata": {
        "id": "fk2UJmZyRlZt"
      },
      "source": [
        "### Dans le code précédent, 'k' représente la profondeur explorée, 'b' le nombre de noeuds explorés par le joueur Sud (ici un joueur Min/Max simple), 'c' le nombre de noeuds explorés par le joueur Nord (ici un joueur Min/Max alpha/beta) et 'd' le nombre de tours joués (à chaque fois que l'un des joueurs joue, cela compte pour 1 tour)."
      ]
    },
    {
      "cell_type": "code",
      "execution_count": null,
      "metadata": {
        "id": "oWnOybeLQHIj"
      },
      "outputs": [],
      "source": [
        "X = [L[i][0] for i in range (0,5)]\n",
        "Y1 = [L[i][1] for i in range (0,5)]\n",
        "Y2 = [L[i][2] for i in range (0,5)]"
      ]
    },
    {
      "cell_type": "code",
      "execution_count": null,
      "metadata": {
        "colab": {
          "base_uri": "https://localhost:8080/",
          "height": 313
        },
        "id": "SBhA2mO1RbJw",
        "outputId": "8c85ec0b-f7d1-4126-e5f6-9fdb80ca601a"
      },
      "outputs": [
        {
          "output_type": "execute_result",
          "data": {
            "text/plain": [
              "Text(0.5, 1.0, 'Comparaison du nombre de noeud exploré par MinMax simple et MinMax Alpha/Beta')"
            ]
          },
          "metadata": {},
          "execution_count": 8
        },
        {
          "output_type": "display_data",
          "data": {
            "image/png": "[encoded data removed]",
            "text/plain": [
              "<Figure size 432x288 with 1 Axes>"
            ]
          },
          "metadata": {
            "needs_background": "light"
          }
        }
      ],
      "source": [
        "import matplotlib.pyplot as plt\n",
        "plt.figure()\n",
        "plt.scatter(X, Y1, c='coral',label='Min/Max simple')\n",
        "plt.scatter(X, Y2, c='lightblue',label='Min/Max alpha/béta')\n",
        "plt.xlabel(\"depth\")\n",
        "plt.ylabel(\"nb of nodes\")\n",
        "plt.legend(loc='upper left')\n",
        "plt.title('Comparaison du nombre de noeud exploré par MinMax simple et MinMax Alpha/Beta')"
      ]
    },
    {
      "cell_type": "markdown",
      "source": [
        "### Ainsi, on remarque que plus la profondeur explorée est grande, plus il est avantageux d'utiliser alpha/béta plutôt que MinMax simple."
      ],
      "metadata": {
        "id": "ffoSUFLpm8t9"
      }
    },
    {
      "cell_type": "markdown",
      "metadata": {
        "id": "AL33qQHhjfpm"
      },
      "source": [
        "# **I.2.Comparaison avec une seconde fonction d'évaluation.**"
      ]
    },
    {
      "cell_type": "markdown",
      "metadata": {
        "id": "SlqIEcs9RzeH"
      },
      "source": [
        "### On a créé un tournoi entre deux joueurs qui s'affrontent durant 10 parties. Puis les différents joueurs se rencontrent."
      ]
    },
    {
      "cell_type": "code",
      "execution_count": null,
      "metadata": {
        "id": "thI213y7TNQi"
      },
      "outputs": [],
      "source": [
        "def rencontre_result_South(first_game, j1, j2,N):\n",
        "  v1=0 #victoires joueur 1\n",
        "  v2=0 #victoires joueur 2\n",
        "  n=0 #matchs nuls\n",
        "  game = first_game\n",
        "  for i in range(N):\n",
        "    game = AwaleGame()\n",
        "    r = play_game(game,j1,j2)[0]\n",
        "    if r==0: v1+=1\n",
        "    elif r==1: v2+=1\n",
        "    else: n+=1\n",
        "  return v1/(N+.0), v2/(N+.0), n/(N+.0)"
      ]
    },
    {
      "cell_type": "markdown",
      "metadata": {
        "id": "GWs1Z0q3-xu1"
      },
      "source": [
        "### Sur les tableaux suivants, chaque valeur représente le taux de victoire (pris sur 10 parties) du joueur Sud."
      ]
    },
    {
      "cell_type": "code",
      "execution_count": null,
      "metadata": {
        "id": "4LFSofvn4hXh"
      },
      "outputs": [],
      "source": [
        "import numpy as np\n",
        "import pandas as pd\n",
        "\n",
        "L = np.zeros((3,3))\n",
        "for i in range (1,len(L)+1):\n",
        "  for j in range (1,len(L[0])+1):\n",
        "    L[i-1][j-1] = rencontre_result_South(AwaleGame(), alphabetaplayer(fevalAwaleSouthbis,i),alphabetaplayer(fevalAwaleNorth,j),10)[1]\n",
        "M = np.zeros((3,3))\n",
        "for i in range (1,len(L)+1):\n",
        "  for j in range (1,len(L[0])+1):\n",
        "    M[i-1][j-1] = rencontre_result_South(AwaleGame(), alphabetaplayer(fevalAwaleSouth,i),alphabetaplayer(fevalAwaleNorthbis,j),10)[1]"
      ]
    },
    {
      "cell_type": "code",
      "execution_count": null,
      "metadata": {
        "id": "ZEzb6ns6kna3"
      },
      "outputs": [],
      "source": [
        "column1 = ['fevalbis_depthSouth1' , 'fevalbis_depthSouth1' , 'fevalbis_depth3South']\n",
        "index1 = ['feval_depth1North' , 'feval_depth2North' , 'feval_depth3North']\n",
        "df1 = pd.DataFrame(data=L,index=index1,columns=column1)\n",
        "index2 = ['fevalbis_depth1North' , 'fevalbis_depth2North' ,  'fevalbis_depth3North']\n",
        "column2 = ['feval_depthSouth1' , 'feval_depthSouth2' , 'feval_depthSouth3']\n",
        "df2 = pd.DataFrame(data=M,index=index2,columns=column2)\n"
      ]
    },
    {
      "cell_type": "markdown",
      "metadata": {
        "id": "-7t0KLt_nUas"
      },
      "source": [
        "### On affiche deux tableaux puisque l'interprétation d'un résultat obtenu uniquement avec un tableau serait limitée. En effet, le jeu d'Awale est fondamentalement biaisé puisque le joueur qui commence a de plus grandes chances de gagner la partie."
      ]
    },
    {
      "cell_type": "code",
      "execution_count": null,
      "metadata": {
        "id": "uzM1p3mGJ05B",
        "colab": {
          "base_uri": "https://localhost:8080/",
          "height": 143
        },
        "outputId": "e6bc90a1-e0a2-44e7-cb23-481643b73058"
      },
      "outputs": [
        {
          "output_type": "execute_result",
          "data": {
            "text/html": [
              "\n",
              "  <div id=\"df-c688cf8a-db4c-4445-922d-c3cbdd3b358b\">\n",
              "    <div class=\"colab-df-container\">\n",
              "      <div>\n",
              "<style scoped>\n",
              "    .dataframe tbody tr th:only-of-type {\n",
              "        vertical-align: middle;\n",
              "    }\n",
              "\n",
              "    .dataframe tbody tr th {\n",
              "        vertical-align: top;\n",
              "    }\n",
              "\n",
              "    .dataframe thead th {\n",
              "        text-align: right;\n",
              "    }\n",
              "</style>\n",
              "<table border=\"1\" class=\"dataframe\">\n",
              "  <thead>\n",
              "    <tr style=\"text-align: right;\">\n",
              "      <th></th>\n",
              "      <th>fevalbis_depthSouth1</th>\n",
              "      <th>fevalbis_depthSouth1</th>\n",
              "      <th>fevalbis_depth3South</th>\n",
              "    </tr>\n",
              "  </thead>\n",
              "  <tbody>\n",
              "    <tr>\n",
              "      <th>feval_depth1North</th>\n",
              "      <td>0.3</td>\n",
              "      <td>0.5</td>\n",
              "      <td>0.6</td>\n",
              "    </tr>\n",
              "    <tr>\n",
              "      <th>feval_depth2North</th>\n",
              "      <td>0.0</td>\n",
              "      <td>0.5</td>\n",
              "      <td>0.9</td>\n",
              "    </tr>\n",
              "    <tr>\n",
              "      <th>feval_depth3North</th>\n",
              "      <td>0.1</td>\n",
              "      <td>0.2</td>\n",
              "      <td>0.5</td>\n",
              "    </tr>\n",
              "  </tbody>\n",
              "</table>\n",
              "</div>\n",
              "      <button class=\"colab-df-convert\" onclick=\"convertToInteractive('df-c688cf8a-db4c-4445-922d-c3cbdd3b358b')\"\n",
              "              title=\"Convert this dataframe to an interactive table.\"\n",
              "              style=\"display:none;\">\n",
              "        \n",
              "  <svg xmlns=\"http://www.w3.org/2000/svg\" height=\"24px\"viewBox=\"0 0 24 24\"\n",
              "       width=\"24px\">\n",
              "    <path d=\"M0 0h24v24H0V0z\" fill=\"none\"/>\n",
              "    <path d=\"M18.56 5.44l.94 2.06.94-2.06 2.06-.94-2.06-.94-.94-2.06-.94 2.06-2.06.94zm-11 1L8.5 8.5l.94-2.06 2.06-.94-2.06-.94L8.5 2.5l-.94 2.06-2.06.94zm10 10l.94 2.06.94-2.06 2.06-.94-2.06-.94-.94-2.06-.94 2.06-2.06.94z\"/><path d=\"M17.41 7.96l-1.37-1.37c-.4-.4-.92-.59-1.43-.59-.52 0-1.04.2-1.43.59L10.3 9.45l-7.72 7.72c-.78.78-.78 2.05 0 2.83L4 21.41c.39.39.9.59 1.41.59.51 0 1.02-.2 1.41-.59l7.78-7.78 2.81-2.81c.8-.78.8-2.07 0-2.86zM5.41 20L4 18.59l7.72-7.72 1.47 1.35L5.41 20z\"/>\n",
              "  </svg>\n",
              "      </button>\n",
              "      \n",
              "  <style>\n",
              "    .colab-df-container {\n",
              "      display:flex;\n",
              "      flex-wrap:wrap;\n",
              "      gap: 12px;\n",
              "    }\n",
              "\n",
              "    .colab-df-convert {\n",
              "      background-color: #E8F0FE;\n",
              "      border: none;\n",
              "      border-radius: 50%;\n",
              "      cursor: pointer;\n",
              "      display: none;\n",
              "      fill: #1967D2;\n",
              "      height: 32px;\n",
              "      padding: 0 0 0 0;\n",
              "      width: 32px;\n",
              "    }\n",
              "\n",
              "    .colab-df-convert:hover {\n",
              "      background-color: #E2EBFA;\n",
              "      box-shadow: 0px 1px 2px rgba(60, 64, 67, 0.3), 0px 1px 3px 1px rgba(60, 64, 67, 0.15);\n",
              "      fill: #174EA6;\n",
              "    }\n",
              "\n",
              "    [theme=dark] .colab-df-convert {\n",
              "      background-color: #3B4455;\n",
              "      fill: #D2E3FC;\n",
              "    }\n",
              "\n",
              "    [theme=dark] .colab-df-convert:hover {\n",
              "      background-color: #434B5C;\n",
              "      box-shadow: 0px 1px 3px 1px rgba(0, 0, 0, 0.15);\n",
              "      filter: drop-shadow(0px 1px 2px rgba(0, 0, 0, 0.3));\n",
              "      fill: #FFFFFF;\n",
              "    }\n",
              "  </style>\n",
              "\n",
              "      <script>\n",
              "        const buttonEl =\n",
              "          document.querySelector('#df-c688cf8a-db4c-4445-922d-c3cbdd3b358b button.colab-df-convert');\n",
              "        buttonEl.style.display =\n",
              "          google.colab.kernel.accessAllowed ? 'block' : 'none';\n",
              "\n",
              "        async function convertToInteractive(key) {\n",
              "          const element = document.querySelector('#df-c688cf8a-db4c-4445-922d-c3cbdd3b358b');\n",
              "          const dataTable =\n",
              "            await google.colab.kernel.invokeFunction('convertToInteractive',\n",
              "                                                     [key], {});\n",
              "          if (!dataTable) return;\n",
              "\n",
              "          const docLinkHtml = 'Like what you see? Visit the ' +\n",
              "            '<a target=\"_blank\" href=https://colab.research.google.com/notebooks/data_table.ipynb>data table notebook</a>'\n",
              "            + ' to learn more about interactive tables.';\n",
              "          element.innerHTML = '';\n",
              "          dataTable['output_type'] = 'display_data';\n",
              "          await google.colab.output.renderOutput(dataTable, element);\n",
              "          const docLink = document.createElement('div');\n",
              "          docLink.innerHTML = docLinkHtml;\n",
              "          element.appendChild(docLink);\n",
              "        }\n",
              "      </script>\n",
              "    </div>\n",
              "  </div>\n",
              "  "
            ],
            "text/plain": [
              "                   fevalbis_depthSouth1  ...  fevalbis_depth3South\n",
              "feval_depth1North                   0.3  ...                   0.6\n",
              "feval_depth2North                   0.0  ...                   0.9\n",
              "feval_depth3North                   0.1  ...                   0.5\n",
              "\n",
              "[3 rows x 3 columns]"
            ]
          },
          "metadata": {},
          "execution_count": 12
        }
      ],
      "source": [
        "df1"
      ]
    },
    {
      "cell_type": "code",
      "execution_count": null,
      "metadata": {
        "id": "H_OMK6TYJ257",
        "colab": {
          "base_uri": "https://localhost:8080/",
          "height": 143
        },
        "outputId": "62c010e8-f6e8-4ab7-978d-b3f01d1fc503"
      },
      "outputs": [
        {
          "output_type": "execute_result",
          "data": {
            "text/html": [
              "\n",
              "  <div id=\"df-eb47a477-8085-4df4-9f5e-711c62b4f105\">\n",
              "    <div class=\"colab-df-container\">\n",
              "      <div>\n",
              "<style scoped>\n",
              "    .dataframe tbody tr th:only-of-type {\n",
              "        vertical-align: middle;\n",
              "    }\n",
              "\n",
              "    .dataframe tbody tr th {\n",
              "        vertical-align: top;\n",
              "    }\n",
              "\n",
              "    .dataframe thead th {\n",
              "        text-align: right;\n",
              "    }\n",
              "</style>\n",
              "<table border=\"1\" class=\"dataframe\">\n",
              "  <thead>\n",
              "    <tr style=\"text-align: right;\">\n",
              "      <th></th>\n",
              "      <th>feval_depthSouth1</th>\n",
              "      <th>feval_depthSouth2</th>\n",
              "      <th>feval_depthSouth3</th>\n",
              "    </tr>\n",
              "  </thead>\n",
              "  <tbody>\n",
              "    <tr>\n",
              "      <th>fevalbis_depth1North</th>\n",
              "      <td>0.2</td>\n",
              "      <td>0.8</td>\n",
              "      <td>0.9</td>\n",
              "    </tr>\n",
              "    <tr>\n",
              "      <th>fevalbis_depth2North</th>\n",
              "      <td>0.3</td>\n",
              "      <td>0.3</td>\n",
              "      <td>0.7</td>\n",
              "    </tr>\n",
              "    <tr>\n",
              "      <th>fevalbis_depth3North</th>\n",
              "      <td>0.4</td>\n",
              "      <td>0.3</td>\n",
              "      <td>0.6</td>\n",
              "    </tr>\n",
              "  </tbody>\n",
              "</table>\n",
              "</div>\n",
              "      <button class=\"colab-df-convert\" onclick=\"convertToInteractive('df-eb47a477-8085-4df4-9f5e-711c62b4f105')\"\n",
              "              title=\"Convert this dataframe to an interactive table.\"\n",
              "              style=\"display:none;\">\n",
              "        \n",
              "  <svg xmlns=\"http://www.w3.org/2000/svg\" height=\"24px\"viewBox=\"0 0 24 24\"\n",
              "       width=\"24px\">\n",
              "    <path d=\"M0 0h24v24H0V0z\" fill=\"none\"/>\n",
              "    <path d=\"M18.56 5.44l.94 2.06.94-2.06 2.06-.94-2.06-.94-.94-2.06-.94 2.06-2.06.94zm-11 1L8.5 8.5l.94-2.06 2.06-.94-2.06-.94L8.5 2.5l-.94 2.06-2.06.94zm10 10l.94 2.06.94-2.06 2.06-.94-2.06-.94-.94-2.06-.94 2.06-2.06.94z\"/><path d=\"M17.41 7.96l-1.37-1.37c-.4-.4-.92-.59-1.43-.59-.52 0-1.04.2-1.43.59L10.3 9.45l-7.72 7.72c-.78.78-.78 2.05 0 2.83L4 21.41c.39.39.9.59 1.41.59.51 0 1.02-.2 1.41-.59l7.78-7.78 2.81-2.81c.8-.78.8-2.07 0-2.86zM5.41 20L4 18.59l7.72-7.72 1.47 1.35L5.41 20z\"/>\n",
              "  </svg>\n",
              "      </button>\n",
              "      \n",
              "  <style>\n",
              "    .colab-df-container {\n",
              "      display:flex;\n",
              "      flex-wrap:wrap;\n",
              "      gap: 12px;\n",
              "    }\n",
              "\n",
              "    .colab-df-convert {\n",
              "      background-color: #E8F0FE;\n",
              "      border: none;\n",
              "      border-radius: 50%;\n",
              "      cursor: pointer;\n",
              "      display: none;\n",
              "      fill: #1967D2;\n",
              "      height: 32px;\n",
              "      padding: 0 0 0 0;\n",
              "      width: 32px;\n",
              "    }\n",
              "\n",
              "    .colab-df-convert:hover {\n",
              "      background-color: #E2EBFA;\n",
              "      box-shadow: 0px 1px 2px rgba(60, 64, 67, 0.3), 0px 1px 3px 1px rgba(60, 64, 67, 0.15);\n",
              "      fill: #174EA6;\n",
              "    }\n",
              "\n",
              "    [theme=dark] .colab-df-convert {\n",
              "      background-color: #3B4455;\n",
              "      fill: #D2E3FC;\n",
              "    }\n",
              "\n",
              "    [theme=dark] .colab-df-convert:hover {\n",
              "      background-color: #434B5C;\n",
              "      box-shadow: 0px 1px 3px 1px rgba(0, 0, 0, 0.15);\n",
              "      filter: drop-shadow(0px 1px 2px rgba(0, 0, 0, 0.3));\n",
              "      fill: #FFFFFF;\n",
              "    }\n",
              "  </style>\n",
              "\n",
              "      <script>\n",
              "        const buttonEl =\n",
              "          document.querySelector('#df-eb47a477-8085-4df4-9f5e-711c62b4f105 button.colab-df-convert');\n",
              "        buttonEl.style.display =\n",
              "          google.colab.kernel.accessAllowed ? 'block' : 'none';\n",
              "\n",
              "        async function convertToInteractive(key) {\n",
              "          const element = document.querySelector('#df-eb47a477-8085-4df4-9f5e-711c62b4f105');\n",
              "          const dataTable =\n",
              "            await google.colab.kernel.invokeFunction('convertToInteractive',\n",
              "                                                     [key], {});\n",
              "          if (!dataTable) return;\n",
              "\n",
              "          const docLinkHtml = 'Like what you see? Visit the ' +\n",
              "            '<a target=\"_blank\" href=https://colab.research.google.com/notebooks/data_table.ipynb>data table notebook</a>'\n",
              "            + ' to learn more about interactive tables.';\n",
              "          element.innerHTML = '';\n",
              "          dataTable['output_type'] = 'display_data';\n",
              "          await google.colab.output.renderOutput(dataTable, element);\n",
              "          const docLink = document.createElement('div');\n",
              "          docLink.innerHTML = docLinkHtml;\n",
              "          element.appendChild(docLink);\n",
              "        }\n",
              "      </script>\n",
              "    </div>\n",
              "  </div>\n",
              "  "
            ],
            "text/plain": [
              "                      feval_depthSouth1  feval_depthSouth2  feval_depthSouth3\n",
              "fevalbis_depth1North                0.2                0.8                0.9\n",
              "fevalbis_depth2North                0.3                0.3                0.7\n",
              "fevalbis_depth3North                0.4                0.3                0.6"
            ]
          },
          "metadata": {},
          "execution_count": 13
        }
      ],
      "source": [
        "df2"
      ]
    },
    {
      "cell_type": "code",
      "execution_count": null,
      "metadata": {
        "id": "OIuzCHLUlScu"
      },
      "outputs": [],
      "source": [
        "def fevalAwaleNorth(self,game, state, depth,action):\n",
        "  if game.utility(state, self)==1:\n",
        "    return float(\"+inf\")\n",
        "  elif game.utility(state, self)==0:\n",
        "    return float(\"-inf\")\n",
        "  else:\n",
        "    scores = state.score\n",
        "    return (scores[1]-scores[0])*(1+0.03*np.random.randn())\n",
        "\n",
        "def fevalAwaleSouth(self,game, state, depth,action):\n",
        "  if game.utility(state, self)==1:\n",
        "    return float(\"-inf\")\n",
        "  elif game.utility(state, self)==0:\n",
        "    return float(\"+inf\")\n",
        "  else:\n",
        "    scores = state.score\n",
        "    return (scores[0]-scores[1])*(1+0.03*np.random.randn())\n",
        "\n",
        "####################################\n",
        "\n",
        "def fevalAwaleNorthbis(self,game, state, depth,action):\n",
        "  if game.utility(state, self)==1:\n",
        "    return float(\"+inf\")\n",
        "  elif game.utility(state, self)==0:\n",
        "    return float(\"-inf\")\n",
        "  else:\n",
        "    scores = state.score\n",
        "    return (scores[1]-scores[0]-0.05*game.board.board[action])*(1+0.03*np.random.randn())\n",
        "\n",
        "def fevalAwaleSouthbis(self,game, state, depth,action):\n",
        "  if game.utility(state, self)==1:\n",
        "    return float(\"-inf\")\n",
        "  elif game.utility(state, self)==0:\n",
        "    return float(\"+inf\")\n",
        "  else:\n",
        "    scores = state.score\n",
        "    return (scores[0]-scores[1]- 0.05*game.board.board[action])*(1+0.03*np.random.randn())\n"
      ]
    },
    {
      "cell_type": "markdown",
      "metadata": {
        "id": "EMMkbFkklvPL"
      },
      "source": [
        "# **II.Fonction d'évaluation avec Machine Learning,les deux classifieurs utilisés**\n"
      ]
    },
    {
      "cell_type": "code",
      "execution_count": null,
      "metadata": {
        "id": "-cY3796QhRQv"
      },
      "outputs": [],
      "source": [
        "#La partie load de données/légère modification afin daméliorer le résultat\n",
        "\n",
        "import pickle\n",
        "from sklearn.model_selection import train_test_split\n",
        "from sklearn.preprocessing import MinMaxScaler\n",
        "import numpy as np\n",
        "\n",
        "def load_datas(filename, removePlayer= False, transform=False):\n",
        "    parties = np.load(filename)\n",
        "    if removePlayer:\n",
        "        print(parties.shape)\n",
        "        iSouth=np.where(parties[:,15]==0)\n",
        "        print (iSouth)\n",
        "        parties = parties[iSouth]\n",
        "        print(parties.shape)\n",
        "    X=parties[:,:14]\n",
        "    Y=parties[:,14]\n",
        "    print (\"Shape X et y : \", X.shape, Y.shape)\n",
        "    Y = (Y+1) /2\n",
        "    X_train, X_test, y_train, y_test = train_test_split(X, Y, test_size=0.3, random_state=42)\n",
        "    \n",
        "    print (\"Shapes : Xtrain, y_train \", X_train.shape, y_train.shape)\n",
        "    print (\"Shapes : Xtest, y_test \", X_test.shape, y_test.shape)\n",
        "    return(X_train, y_train, X_test,  y_test)\n",
        "\n",
        "\n",
        "def define_caract(X,Y):\n",
        "    Xtilde,Ytilde = [],[]\n",
        "    for i in range (len(X)):\n",
        "      if X[i][12]+X[i][13]>20:\n",
        "        Xtilde.append(X[i])\n",
        "        Ytilde.append(Y[i])\n",
        "    return np.asarray(Xtilde),np.asarray(Ytilde) \n",
        "\n",
        "\n",
        "def learn(m, X_train, Y_train, X_test, Y_test):\n",
        "    model= m.fit(X_train, Y_train)\n",
        "    print (\"Accruacy Train : \", m.score(X_train, Y_train), \" et test: \",m.score(X_test, Y_test))\n",
        "    return (model)"
      ]
    },
    {
      "cell_type": "markdown",
      "metadata": {
        "id": "zsu3ZOme6qMc"
      },
      "source": [
        "### La fonction définissant les caractéristiques des données prises en compte lors de l'apprentissage conduit à s'interesser plus particulièrement à la fin des parties.\n",
        "\n"
      ]
    },
    {
      "cell_type": "code",
      "execution_count": null,
      "metadata": {
        "id": "9hECv4uQWRsj",
        "colab": {
          "base_uri": "https://localhost:8080/"
        },
        "outputId": "a34a8093-46e7-4d43-a4eb-a486878a78b0"
      },
      "outputs": [
        {
          "output_type": "stream",
          "name": "stdout",
          "text": [
            "Shape X et y :  (557928, 14) (557928,)\n",
            "Shapes : Xtrain, y_train  (390549, 14) (390549,)\n",
            "Shapes : Xtest, y_test  (167379, 14) (167379,)\n",
            "Accruacy Train :  0.7601542826177042  et test:  0.7416581530538479\n"
          ]
        }
      ],
      "source": [
        "from sklearn.linear_model import LogisticRegression\n",
        "#La regression logique est l'algorithme avec lequel j'ai obtenus les meilleurs résultats\n",
        "filename = 'ABvariable7vsABvariable75000_FullGames_AllisSouth.npy'\n",
        "X_train, Y_train, X_test,  Y_test = load_datas(filename)\n",
        "X_train,Y_train = define_caract(X_train,Y_train)\n",
        "lr = LogisticRegression(C=100.0, random_state=0)\n",
        "m = learn(lr,X_train, Y_train, X_test, Y_test)\n",
        "filename = \"Modeles/LR_ABvariable7vsABvariable75000_FullGames_Allplayers_SouthOnly.npy\"\n",
        "pickle.dump(m, open(filename, 'wb'))"
      ]
    },
    {
      "cell_type": "code",
      "execution_count": null,
      "metadata": {
        "id": "6C3q8LVDjMcB",
        "colab": {
          "base_uri": "https://localhost:8080/"
        },
        "outputId": "e351475b-081b-47b7-8abd-0d789218c265"
      },
      "outputs": [
        {
          "output_type": "stream",
          "name": "stdout",
          "text": [
            "Shape X et y :  (557928, 14) (557928,)\n",
            "Shapes : Xtrain, y_train  (390549, 14) (390549,)\n",
            "Shapes : Xtest, y_test  (167379, 14) (167379,)\n",
            "\n",
            "*** XGBoost 1 ***\n",
            "\n",
            "Accruacy Train :  0.747437581455848  et test:  0.7476983373063526\n",
            "\n",
            "*** XGboost 2 ***\n",
            "\n",
            "Accruacy Train :  0.7670561184384034  et test:  0.7585778383190245\n"
          ]
        },
        {
          "output_type": "execute_result",
          "data": {
            "text/plain": [
              "XGBClassifier(max_depth=8, subsample=0.5)"
            ]
          },
          "metadata": {},
          "execution_count": 18
        }
      ],
      "source": [
        "import xgboost as xgb\n",
        "filename = 'ABvariable7vsABvariable75000_FullGames_AllisSouth.npy'\n",
        "X_train, Y_train, X_test,  Y_test = load_datas(filename)\n",
        "print(\"\\n*** XGBoost 1 ***\\n\")\n",
        "\n",
        "model1 = xgb.XGBClassifier()\n",
        "learn(model1,X_train, Y_train, X_test, Y_test)\n",
        "\n",
        "\n",
        "print(\"\\n*** XGboost 2 ***\\n\")\n",
        "\n",
        "model2 = xgb.XGBClassifier(n_estimators=100, max_depth=8, learning_rate=0.1, subsample=0.5)\n",
        "learn(model2,X_train, Y_train, X_test, Y_test)"
      ]
    },
    {
      "cell_type": "markdown",
      "metadata": {
        "id": "C_Oewisul55x"
      },
      "source": [
        "### Heuristique pour le joueur ML:"
      ]
    },
    {
      "cell_type": "code",
      "execution_count": null,
      "metadata": {
        "id": "cWF3UXPkjm0i",
        "colab": {
          "base_uri": "https://localhost:8080/"
        },
        "outputId": "794862d1-551a-4853-dfc8-999c2f674d79"
      },
      "outputs": [
        {
          "output_type": "stream",
          "name": "stdout",
          "text": [
            "LogisticRegression(C=100.0, random_state=0)\n"
          ]
        }
      ],
      "source": [
        "filename = \"Modeles/LR_ABvariable7vsABvariable75000_FullGames_Allplayers_SouthOnly.npy\"\n",
        "loaded_model = pickle.load(open(filename, 'rb'))\n",
        "print(loaded_model)\n",
        "def fevalMLSouth(self,game,state,depth,action):\n",
        "  if game.utility(state, self)==1:\n",
        "    return float(\"+inf\")\n",
        "  elif game.utility(state, self)==0:\n",
        "    return float(\"-inf\")\n",
        "  else:\n",
        "    x = game.board.board + game.board.score\n",
        "    X= np.array(x).reshape (1, len(x))\n",
        "    a = loaded_model.predict_proba(X)[0][0]\n",
        "    return a\n"
      ]
    },
    {
      "cell_type": "markdown",
      "metadata": {
        "id": "pV-pXNN2lAKH"
      },
      "source": [
        "# **III.Annexe, mon joueur Alpha/Béta.** "
      ]
    },
    {
      "cell_type": "markdown",
      "source": [
        "### Je n'ai inclu que le code du joueur Alpha/Beta car le joueur MinMax simple est très similaire."
      ],
      "metadata": {
        "id": "MaFK_3LXo3uk"
      }
    },
    {
      "cell_type": "code",
      "execution_count": null,
      "metadata": {
        "id": "wOnZNeE1lGXI"
      },
      "outputs": [],
      "source": [
        "class alphabetaplayer(Player):\n",
        "  counter = 0\n",
        "  def __init__(self, feval=None, depth=0):\n",
        "    self.feval = feval\n",
        "    self.depth = depth\n",
        "  \n",
        "  def stop (self, game, state,actual_depth):\n",
        "    if game.terminal_test(state) == True:\n",
        "      return True\n",
        "    elif actual_depth>self.depth:\n",
        "      actual_depth=0\n",
        "      return True\n",
        "    else:\n",
        "      return False\n",
        "\n",
        "  def minValue(self, game, state, actual_depth,alpha,beta):\n",
        "    move,local_result,action = 0,state,4\n",
        "    if self.stop(game,state,actual_depth)==True:\n",
        "      return self.feval(self,game, local_result,0,action),action\n",
        "    val,eval = float('+inf'),float('+inf')\n",
        "    for action in game.actions(state):\n",
        "      self.counter +=1\n",
        "      local_result = game.result(state,action)\n",
        "      eval = min(eval, self.maxValue(game,local_result,actual_depth+1,alpha,beta)[0])\n",
        "      beta = min(beta,eval)\n",
        "      if alpha > beta : \n",
        "        break\n",
        "      if eval < val:\n",
        "          val = eval\n",
        "          move = action\n",
        "    return eval,move\n",
        "  \n",
        "  def maxValue(self, game, state, actual_depth,alpha,beta):\n",
        "    move,local_result,action = 0,state,4\n",
        "    if self.stop(game,state,actual_depth)==True:\n",
        "        return self.feval(self,game, local_result,0,action),action\n",
        "    val,eval = float('-inf'),float('-inf')\n",
        "    for action in game.actions(state):\n",
        "      self.counter +=1\n",
        "      local_result = game.result(state, action)\n",
        "      eval = max(eval,self.minValue(game,local_result,actual_depth+1,alpha,beta)[0])\n",
        "      alpha = max(eval,alpha)\n",
        "      if alpha > beta : \n",
        "        break\n",
        "      if eval > val:\n",
        "        val = eval\n",
        "        move = action\n",
        "    return eval,move\n",
        "\n",
        "  def best_move(self, game, state):\n",
        "    alpha,beta = float('-inf'),float('+inf')\n",
        "    c=0\n",
        "    move = (self.maxValue(game,state,c,alpha,beta))[1]\n",
        "    return move"
      ]
    }
  ],
  "metadata": {
    "colab": {
      "collapsed_sections": [],
      "name": "Compte_rendu_RICHARD_martin.ipynb",
      "provenance": []
    },
    "kernelspec": {
      "display_name": "Python 3",
      "language": "python",
      "name": "python3"
    },
    "language_info": {
      "codemirror_mode": {
        "name": "ipython",
        "version": 3
      },
      "file_extension": ".py",
      "mimetype": "text/x-python",
      "name": "python",
      "nbconvert_exporter": "python",
      "pygments_lexer": "ipython3",
      "version": "3.6.7"
    }
  },
  "nbformat": 4,
  "nbformat_minor": 0
}